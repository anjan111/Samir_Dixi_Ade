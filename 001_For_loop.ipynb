{
 "cells": [
  {
   "cell_type": "code",
   "execution_count": 2,
   "metadata": {},
   "outputs": [
    {
     "name": "stdout",
     "output_type": "stream",
     "text": [
      "*******\n",
      "hello\n",
      "hai\n",
      "*******\n",
      "hello\n",
      "hai\n",
      "*******\n",
      "hello\n",
      "hai\n",
      "*******\n",
      "hello\n",
      "hai\n",
      "*******\n",
      "hello\n",
      "hai\n",
      "########\n",
      "Optional block\n"
     ]
    }
   ],
   "source": [
    "'''\n",
    "for  user_var    in   user_seq_var:\n",
    "    Task\n",
    "    ----\n",
    "    ----\n",
    "    ----\n",
    "else:\n",
    "    Opional Block\n",
    "'''\n",
    "# wap print the elements in a any seq variable\n",
    "seq = [12 , 45.234 , 5+4j,34,100]  # 5 elements\n",
    "for var in seq:\n",
    "    print(\"*******\")\n",
    "    print(\"hello\")\n",
    "    print(\"hai\")\n",
    "else:\n",
    "    print(\"########\")\n",
    "    print(\"Optional block\")"
   ]
  },
  {
   "cell_type": "code",
   "execution_count": 3,
   "metadata": {},
   "outputs": [
    {
     "name": "stdout",
     "output_type": "stream",
     "text": [
      "*******\n",
      "ele:  12\n",
      "*******\n",
      "ele:  45.234\n",
      "*******\n",
      "ele:  (5+4j)\n",
      "*******\n",
      "ele:  34\n",
      "*******\n",
      "ele:  100\n",
      "########\n",
      "Optional block\n"
     ]
    }
   ],
   "source": [
    "# wap print the elements in a any seq variable\n",
    "seq = [12 , 45.234 , 5+4j,34,100]  # 5 elements\n",
    "for var in seq:\n",
    "    print(\"*******\")\n",
    "    print(\"ele: \",var)\n",
    "else:\n",
    "    print(\"########\")\n",
    "    print(\"Optional block\")"
   ]
  },
  {
   "cell_type": "code",
   "execution_count": 7,
   "metadata": {},
   "outputs": [
    {
     "name": "stdout",
     "output_type": "stream",
     "text": [
      "[90, 34, 100, 23, 2, 13]\n",
      "[2, 13, 23, 34, 90, 100]\n"
     ]
    }
   ],
   "source": [
    "# wap ascending sorting the list elements\n",
    "seq = [90,34,100,23,2,13]\n",
    "index = 0\n",
    "print(seq)\n",
    "for small in seq:\n",
    "    for new in seq[index+1 : ]:\n",
    "        if(small > new):\n",
    "            new_index = seq.index(new)\n",
    "            seq[index] = new\n",
    "            seq[new_index] = small\n",
    "            small = new\n",
    "    index = index + 1\n",
    "print(seq)\n",
    "# wap disendng  sorting the list elements\n",
    "        \n",
    "\n",
    "\n"
   ]
  },
  {
   "cell_type": "code",
   "execution_count": 1,
   "metadata": {},
   "outputs": [
    {
     "name": "stdout",
     "output_type": "stream",
     "text": [
      "0\n",
      "1\n",
      "2\n",
      "3\n",
      "4\n",
      "5\n",
      "6\n",
      "7\n",
      "8\n",
      "9\n"
     ]
    }
   ],
   "source": [
    "for var  in range(10):\n",
    "    print(var)"
   ]
  },
  {
   "cell_type": "code",
   "execution_count": 2,
   "metadata": {},
   "outputs": [
    {
     "name": "stdout",
     "output_type": "stream",
     "text": [
      "10\n",
      "11\n",
      "12\n",
      "13\n",
      "14\n",
      "15\n",
      "16\n",
      "17\n",
      "18\n",
      "19\n"
     ]
    }
   ],
   "source": [
    "for var  in range(10,20):\n",
    "    print(var)"
   ]
  },
  {
   "cell_type": "code",
   "execution_count": 3,
   "metadata": {},
   "outputs": [
    {
     "name": "stdout",
     "output_type": "stream",
     "text": [
      "10\n",
      "15\n",
      "20\n",
      "25\n"
     ]
    }
   ],
   "source": [
    "for var  in range(10,30,5):\n",
    "    print(var)"
   ]
  },
  {
   "cell_type": "code",
   "execution_count": 5,
   "metadata": {},
   "outputs": [],
   "source": [
    "# pass \n",
    "'''\n",
    "==>> empty block\n",
    "'''\n",
    "if (10 > 4):\n",
    "    pass"
   ]
  },
  {
   "cell_type": "code",
   "execution_count": 6,
   "metadata": {},
   "outputs": [
    {
     "name": "stdout",
     "output_type": "stream",
     "text": [
      "1\n",
      "2\n",
      "3\n",
      "5\n",
      "6\n",
      "8\n",
      "9\n",
      "10\n"
     ]
    }
   ],
   "source": [
    "# continue \n",
    "'''\n",
    "===>> Skip the specific iteraion with in a loop and continue he  nex iteraion\n",
    "'''\n",
    "# wap print 1 to 10 expect  4 and 7\n",
    "for var in range(1,11):\n",
    "    if(var == 4  or var == 7):\n",
    "        continue\n",
    "    print(var)"
   ]
  },
  {
   "cell_type": "code",
   "execution_count": 8,
   "metadata": {},
   "outputs": [
    {
     "name": "stdout",
     "output_type": "stream",
     "text": [
      "1\n",
      "2\n",
      "3\n",
      "4\n",
      "5\n"
     ]
    }
   ],
   "source": [
    "# break\n",
    "'''\n",
    "==>> to stop the loop\n",
    "'''\n",
    "# wap to print 1 to 10 but stop printing after 5\n",
    "for var in range(1,11):\n",
    "    if(var == 6):\n",
    "        break\n",
    "    print(var)"
   ]
  },
  {
   "cell_type": "code",
   "execution_count": 10,
   "metadata": {},
   "outputs": [
    {
     "name": "stdout",
     "output_type": "stream",
     "text": [
      "enter aa number : 11\n",
      "its a prime\n"
     ]
    }
   ],
   "source": [
    "# wap find the given number is prime or not using break\n",
    "N = int(input(\"enter aa number : \"))\n",
    "for var in range(2,N):\n",
    "    if(N%var == 0):\n",
    "        print(\"its not a prime\")\n",
    "        break\n",
    "else:\n",
    "    print(\"its a prime\")"
   ]
  },
  {
   "cell_type": "code",
   "execution_count": null,
   "metadata": {},
   "outputs": [],
   "source": [
    "# wap find the prime factorial  in between 10 to 20"
   ]
  }
 ],
 "metadata": {
  "kernelspec": {
   "display_name": "Python 3",
   "language": "python",
   "name": "python3"
  },
  "language_info": {
   "codemirror_mode": {
    "name": "ipython",
    "version": 3
   },
   "file_extension": ".py",
   "mimetype": "text/x-python",
   "name": "python",
   "nbconvert_exporter": "python",
   "pygments_lexer": "ipython3",
   "version": "3.8.3"
  }
 },
 "nbformat": 4,
 "nbformat_minor": 4
}
