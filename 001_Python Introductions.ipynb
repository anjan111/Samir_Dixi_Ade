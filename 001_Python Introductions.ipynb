{
 "cells": [
  {
   "cell_type": "markdown",
   "metadata": {},
   "source": [
    "### Python Introduction\n",
    "\n",
    "===>> Python Features\n",
    "\n",
    "===>> Python Application\n",
    "\n"
   ]
  },
  {
   "cell_type": "markdown",
   "metadata": {},
   "source": [
    "#### Python Features\n",
    "\n",
    "===>>> Easy to Understand  \n",
    "\n",
    "===>>> Case Sen\n",
    "\n",
    "anjan   !=   ANJAN\n",
    "\n",
    "===>>> No need any Programming Lang\n",
    "\n",
    "===>>> C ( POP) -> Features  ---> python\n",
    "\n",
    "===>>> C++ ( OOP) --> Features -> Python\n",
    "\n",
    "===>>> Java ( Platform Independed -> s/w -> Any OS ) --> Python\n",
    "\n",
    "===>>> dot Net / Matlab / R / Spark , SAS , Scala ---> ALL PL features --> Python\n",
    "\n",
    "===>> Scripting PL  \n",
    "\n",
    "S/w ( Sourse Code) --->Object Code  ---> Run --> output\n",
    "\n",
    "S/w ( Sourse Code) --->(Object Code  ---> Run ) parallel --> output\n",
    "\n",
    "===>> Perl Programming Language  ---> Interpreted    ---> Python\n",
    "\n",
    "===>> Dynamic PL   ---->  S/w  ---> Run --> output\n",
    "\n",
    "===>>> General Purpose PL   --->  ( PL -->> Any Application )"
   ]
  },
  {
   "cell_type": "markdown",
   "metadata": {},
   "source": [
    "### Python Applications\n",
    "\n",
    "1. AI ( ML / DL / DS / NLP / DA /DV / Image Process ) family\n",
    "\n",
    "\n",
    "2. Web Application  ( youtube )\n",
    "\n",
    "\n",
    "3. Mobile Application  ( Instagram )\n",
    "\n",
    "\n",
    "4. Desktop Application\n",
    "\n",
    "\n",
    "5. Game APplication\n",
    "\n",
    "\n",
    "6. Robots  / IOT / VLSI\n",
    "\n",
    "\n",
    "7. Testing  automation \n",
    "\n",
    "\n",
    "8. Network Automation\n",
    "\n",
    "\n",
    "9. Cloud Automation\n",
    "\n",
    "\n",
    "10. Data Base Automation"
   ]
  },
  {
   "cell_type": "code",
   "execution_count": null,
   "metadata": {},
   "outputs": [],
   "source": []
  }
 ],
 "metadata": {
  "kernelspec": {
   "display_name": "Python 3",
   "language": "python",
   "name": "python3"
  },
  "language_info": {
   "codemirror_mode": {
    "name": "ipython",
    "version": 3
   },
   "file_extension": ".py",
   "mimetype": "text/x-python",
   "name": "python",
   "nbconvert_exporter": "python",
   "pygments_lexer": "ipython3",
   "version": "3.8.3"
  }
 },
 "nbformat": 4,
 "nbformat_minor": 4
}
