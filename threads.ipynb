{
 "cells": [
  {
   "cell_type": "code",
   "execution_count": 1,
   "metadata": {},
   "outputs": [
    {
     "name": "stdout",
     "output_type": "stream",
     "text": [
      "start time  :  1605022268.8799226\n",
      "program\n",
      "fun3\n",
      "fun3\n",
      "fun3\n",
      "fun3\n",
      "fun3\n",
      "fun3\n",
      "fun3\n",
      "fun3\n",
      "fun3\n",
      "fun3\n",
      "program\n",
      "fun1\n",
      "fun1\n",
      "fun1\n",
      "fun1\n",
      "fun1\n",
      "fun1\n",
      "fun1\n",
      "fun1\n",
      "fun1\n",
      "fun1\n",
      "program\n",
      "fun2\n",
      "fun2\n",
      "fun2\n",
      "fun2\n",
      "fun2\n",
      "fun2\n",
      "fun2\n",
      "fun2\n",
      "fun2\n",
      "fun2\n",
      "program\n",
      "stop time  :  1605022298.9508934\n"
     ]
    }
   ],
   "source": [
    "from time import time,sleep\n",
    "def fun1():\n",
    "    for i in range(10):\n",
    "        sleep(1)# delay of 1 sec\n",
    "        print(\"fun1\")\n",
    "def fun2():\n",
    "    for i in range(10):\n",
    "        sleep(1)# delay of 1 sec\n",
    "        print(\"fun2\")\n",
    "def fun3():\n",
    "    for i in range(10):\n",
    "        sleep(1)# delay of 1 sec\n",
    "        print(\"fun3\")\n",
    "# program wifunctions \n",
    "print(\"start time  : \",time())\n",
    "print(\"program\")\n",
    "fun3()\n",
    "print(\"program\")\n",
    "fun1()\n",
    "print(\"program\")\n",
    "fun2()\n",
    "print(\"program\")\n",
    "print(\"stop time  : \",time())"
   ]
  },
  {
   "cell_type": "code",
   "execution_count": 5,
   "metadata": {},
   "outputs": [
    {
     "name": "stdout",
     "output_type": "stream",
     "text": [
      "Collecting multithreading\n",
      "  Downloading multithreading-0.1.8-py3-none-any.whl (6.5 kB)\n",
      "Installing collected packages: multithreading\n",
      "Successfully installed multithreading-0.1.8\n"
     ]
    }
   ],
   "source": [
    "!pip install multithreading"
   ]
  },
  {
   "cell_type": "code",
   "execution_count": 9,
   "metadata": {},
   "outputs": [
    {
     "name": "stdout",
     "output_type": "stream",
     "text": [
      "start time  :  1605022798.6103325\n",
      "program\n",
      "program\n",
      "program\n",
      "program\n",
      "stop time  :  1605022798.624371\n",
      "fun1fun3\n",
      "\n",
      "fun2\n",
      "fun1fun3\n",
      "\n",
      "fun2\n",
      "fun1fun3\n",
      "\n",
      "fun2\n",
      "fun1fun3\n",
      "\n",
      "fun2\n",
      "fun1fun3\n",
      "\n",
      "fun2\n",
      "fun1fun3\n",
      "\n",
      "fun2\n",
      "fun1fun3\n",
      "\n",
      "fun2\n",
      "fun3fun1\n",
      "\n",
      "fun2\n",
      "fun3\n",
      "fun1\n",
      "fun2\n",
      "fun3\n",
      "fun1\n",
      "fun2\n"
     ]
    }
   ],
   "source": [
    "from time import time,sleep\n",
    "from threading import Thread\n",
    "def fun1():\n",
    "    for i in range(10):\n",
    "        sleep(1)# delay of 1 sec\n",
    "        print(\"fun1\")\n",
    "def fun2():\n",
    "    for i in range(10):\n",
    "        sleep(1)# delay of 1 sec\n",
    "        print(\"fun2\")\n",
    "def fun3():\n",
    "    for i in range(10):\n",
    "        sleep(1)# delay of 1 sec\n",
    "        print(\"fun3\")\n",
    "# program wifunctions \n",
    "print(\"start time  : \",time())\n",
    "print(\"program\")\n",
    "t1 = Thread(target=fun1,args = ())\n",
    "t1.start()\n",
    "print(\"program\")\n",
    "t2 = Thread(target=fun2,args = ())\n",
    "t2.start()\n",
    "print(\"program\")\n",
    "t3 = Thread(target=fun3,args = ())\n",
    "t3.start()\n",
    "print(\"program\")\n",
    "print(\"stop time  : \",time())"
   ]
  },
  {
   "cell_type": "code",
   "execution_count": null,
   "metadata": {},
   "outputs": [],
   "source": []
  }
 ],
 "metadata": {
  "kernelspec": {
   "display_name": "Python 3",
   "language": "python",
   "name": "python3"
  },
  "language_info": {
   "codemirror_mode": {
    "name": "ipython",
    "version": 3
   },
   "file_extension": ".py",
   "mimetype": "text/x-python",
   "name": "python",
   "nbconvert_exporter": "python",
   "pygments_lexer": "ipython3",
   "version": "3.8.3"
  }
 },
 "nbformat": 4,
 "nbformat_minor": 4
}
