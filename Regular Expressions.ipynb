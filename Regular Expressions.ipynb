{
 "cells": [
  {
   "cell_type": "code",
   "execution_count": 1,
   "metadata": {},
   "outputs": [
    {
     "name": "stdout",
     "output_type": "stream",
     "text": [
      "<re.Match object; span=(12, 17), match='anjan'>\n",
      "None\n"
     ]
    }
   ],
   "source": [
    "# re ---> module can help the regular expression\n",
    "# Unstrucure data ---->> extract / modify / delete the structured data\n",
    "import re  \n",
    "# data ---> search(ptr) --> object\n",
    "data = \" jfjdhjkfkjganjanhfdgjkhfgjk\"\n",
    "print(re.search(\"anjan\",data))\n",
    "print(re.search(\"anj23\",data))"
   ]
  },
  {
   "cell_type": "code",
   "execution_count": 2,
   "metadata": {},
   "outputs": [
    {
     "name": "stdout",
     "output_type": "stream",
     "text": [
      "None\n",
      "None\n",
      "<re.Match object; span=(0, 6), match='123456'>\n"
     ]
    }
   ],
   "source": [
    "# re ---> module can help the regular expression\n",
    "# Unstrucure data ---->> extract / modify / delete the structured data\n",
    "import re  \n",
    "# data ---> match(ptr) --> object\n",
    "data = \"123456jfjdhjkfkjganjanhfdgjkhfgjk\"\n",
    "print(re.match(\"anjan\",data))\n",
    "print(re.match(\"anj23\",data))\n",
    "print(re.match(\"123456\",data))"
   ]
  },
  {
   "cell_type": "code",
   "execution_count": 3,
   "metadata": {},
   "outputs": [
    {
     "name": "stdout",
     "output_type": "stream",
     "text": [
      "['123', '123', '123']\n"
     ]
    }
   ],
   "source": [
    "# re ---> module can help the regular expression\n",
    "# Unstrucure data ---->> extract / modify / delete the structured data\n",
    "import re  \n",
    "# data ---> match(ptr) --> object\n",
    "data = \"123456jfjdhjkfk123kjfg123jganjanhfdgjkhfgjk\"\n",
    "print(re.findall(\"123\",data))"
   ]
  },
  {
   "cell_type": "code",
   "execution_count": 4,
   "metadata": {},
   "outputs": [
    {
     "name": "stdout",
     "output_type": "stream",
     "text": [
      "123456jfjdhjkfkjg12345hfdgjkhfgjk\n"
     ]
    }
   ],
   "source": [
    "# re ---> module can help the regular expression\n",
    "# Unstrucure data ---->> extract / modify / delete the structured data\n",
    "import re  \n",
    "# data ---> match(ptr) --> object\n",
    "data = \"123456jfjdhjkfkjganjanhfdgjkhfgjk\"\n",
    "print(re.sub(\"anjan\",\"12345\",data))\n"
   ]
  },
  {
   "cell_type": "code",
   "execution_count": 5,
   "metadata": {},
   "outputs": [
    {
     "name": "stdout",
     "output_type": "stream",
     "text": [
      "['run', 'mun', '2un', '@un', ' un', 'Run']\n"
     ]
    }
   ],
   "source": [
    "# . ---->>>>> match any single character\n",
    "\n",
    "data = \"run munfdfnjkf 2un @un dffj un Runfkg\"\n",
    "print(re.findall('.un',data))"
   ]
  },
  {
   "cell_type": "code",
   "execution_count": 7,
   "metadata": {},
   "outputs": [
    {
     "name": "stdout",
     "output_type": "stream",
     "text": [
      "['2un', 'Run']\n"
     ]
    }
   ],
   "source": [
    "# . ---->>>>> match any single character\n",
    "\n",
    "data = \"run munfdfnjkf 2un @un dffj un Runfkg\"\n",
    "print(re.findall('[2aR]un',data))"
   ]
  },
  {
   "cell_type": "code",
   "execution_count": 8,
   "metadata": {},
   "outputs": [
    {
     "name": "stdout",
     "output_type": "stream",
     "text": [
      "['ruuuun', 'muun', 'fn', '2un', '@un', ' n', 'Rn']\n"
     ]
    }
   ],
   "source": [
    "# . ---->>>>> match any single character\n",
    "\n",
    "data = \"ruuuun muunfdfnjkf 2un @un dffj n Rnfkg\"\n",
    "print(re.findall('.u*n',data))# 0 or moretahn 0 "
   ]
  },
  {
   "cell_type": "code",
   "execution_count": 9,
   "metadata": {},
   "outputs": [
    {
     "name": "stdout",
     "output_type": "stream",
     "text": [
      "['ruuuun', 'muun', '2un', '@un']\n"
     ]
    }
   ],
   "source": [
    "# . ---->>>>> match any single character\n",
    "\n",
    "data = \"ruuuun muunfdfnjkf 2un @un dffj n Rnfkg\"\n",
    "print(re.findall('.u+n',data))# 1 or moretahn1"
   ]
  },
  {
   "cell_type": "code",
   "execution_count": 10,
   "metadata": {},
   "outputs": [
    {
     "name": "stdout",
     "output_type": "stream",
     "text": [
      "['uun', 'uun', 'fn', '2un', '@un', ' n', 'Rn']\n"
     ]
    }
   ],
   "source": [
    "# . ---->>>>> match any single character\n",
    "\n",
    "data = \"ruuuun muunfdfnjkf 2un @un dffj n Rnfkg\"\n",
    "print(re.findall('.u?n',data))# 0 or 1"
   ]
  },
  {
   "cell_type": "code",
   "execution_count": 11,
   "metadata": {},
   "outputs": [
    {
     "name": "stdout",
     "output_type": "stream",
     "text": [
      "['ruuuun']\n"
     ]
    }
   ],
   "source": [
    "# . ---->>>>> match any single character\n",
    "\n",
    "data = \"ruuuun muunfdfnjkf 2un @un dffj n Rnfkg\"\n",
    "print(re.findall('.u{4}n',data))# 0 or moretahn1"
   ]
  },
  {
   "cell_type": "code",
   "execution_count": 15,
   "metadata": {},
   "outputs": [
    {
     "name": "stdout",
     "output_type": "stream",
     "text": [
      "['ruuuun', 'muun', '2uuun']\n"
     ]
    }
   ],
   "source": [
    "# . ---->>>>> match any single character\n",
    "\n",
    "data = \"ruuuun muunfdfnjkf 2uuun @un dffj n Rnfkg\"\n",
    "print(re.findall('.u{2,4}n',data))# 0 or moretahn1"
   ]
  },
  {
   "cell_type": "code",
   "execution_count": 16,
   "metadata": {},
   "outputs": [
    {
     "name": "stdout",
     "output_type": "stream",
     "text": [
      "['2uuun']\n"
     ]
    }
   ],
   "source": [
    "# \\d ---> digit\n",
    "# . ---->>>>> match any single character\n",
    "\n",
    "data = \"ruuuun muunfdfnjkf 2uuun @un dffj n Rnfkg\"\n",
    "print(re.findall('\\du{2,4}n',data))# 0 or moretahn1"
   ]
  },
  {
   "cell_type": "code",
   "execution_count": 17,
   "metadata": {},
   "outputs": [
    {
     "name": "stdout",
     "output_type": "stream",
     "text": [
      "['ruuuun', 'muun', 'uuun']\n"
     ]
    }
   ],
   "source": [
    "# \\D ---> not digit\n",
    "# . ---->>>>> match any single character\n",
    "\n",
    "data = \"ruuuun muunfdfnjkf 2uuun @un dffj n Rnfkg\"\n",
    "print(re.findall('\\Du{2,4}n',data))# 0 or moretahn1"
   ]
  },
  {
   "cell_type": "code",
   "execution_count": 19,
   "metadata": {},
   "outputs": [
    {
     "name": "stdout",
     "output_type": "stream",
     "text": [
      "['ruuuun', 'muun', '2uuun']\n"
     ]
    }
   ],
   "source": [
    "# \\w ---> alpha &  digit\n",
    "# . ---->>>>> match any single character\n",
    "\n",
    "data = \"ruuuun muunfdfnjkf 2uuun @uun dffj n Rnfkg\"\n",
    "print(re.findall('\\wu{2,4}n',data))# 0 or moretahn1"
   ]
  },
  {
   "cell_type": "code",
   "execution_count": 20,
   "metadata": {},
   "outputs": [
    {
     "name": "stdout",
     "output_type": "stream",
     "text": [
      "['@uun', ' uun']\n"
     ]
    }
   ],
   "source": [
    "# \\W ---> special\n",
    "# . ---->>>>> match any single character\n",
    "\n",
    "data = \"ruuuun muunfdfnjkf 2uuun @uun dffj uun Rnfkg\"\n",
    "print(re.findall('\\Wu{2,4}n',data))# 0 or moretahn1"
   ]
  },
  {
   "cell_type": "code",
   "execution_count": 21,
   "metadata": {},
   "outputs": [
    {
     "name": "stdout",
     "output_type": "stream",
     "text": [
      "[' uun']\n"
     ]
    }
   ],
   "source": [
    "# \\s ---> space\n",
    "# . ---->>>>> match any single character\n",
    "\n",
    "data = \"ruuuun muunfdfnjkf 2uuun @uun dffj uun Rnfkg\"\n",
    "print(re.findall('\\su{2,4}n',data))# 0 or moretahn1"
   ]
  },
  {
   "cell_type": "code",
   "execution_count": 22,
   "metadata": {},
   "outputs": [
    {
     "name": "stdout",
     "output_type": "stream",
     "text": [
      "['ruuuun', 'muun', '2uuun', '@uun']\n"
     ]
    }
   ],
   "source": [
    "# \\S ---> space\n",
    "# . ---->>>>> match any single character\n",
    "\n",
    "data = \"ruuuun muunfdfnjkf 2uuun @uun dffj uun Rnfkg\"\n",
    "print(re.findall('\\Su{2,4}n',data))# 0 or moretahn1"
   ]
  },
  {
   "cell_type": "code",
   "execution_count": null,
   "metadata": {},
   "outputs": [],
   "source": [
    "#wap find the mail id's from the data\n",
    "data =\"this is anjan my email is anjan@gmail.com and my email id is frnd@gamil.comfjhfkj\""
   ]
  },
  {
   "cell_type": "code",
   "execution_count": null,
   "metadata": {},
   "outputs": [],
   "source": [
    "# wap find the phone numbers\n",
    "data =\"this is anjan my phone number is 9640987960 and my frnd phone9843378543fjhfkj\""
   ]
  }
 ],
 "metadata": {
  "kernelspec": {
   "display_name": "Python 3",
   "language": "python",
   "name": "python3"
  },
  "language_info": {
   "codemirror_mode": {
    "name": "ipython",
    "version": 3
   },
   "file_extension": ".py",
   "mimetype": "text/x-python",
   "name": "python",
   "nbconvert_exporter": "python",
   "pygments_lexer": "ipython3",
   "version": "3.8.3"
  }
 },
 "nbformat": 4,
 "nbformat_minor": 4
}
