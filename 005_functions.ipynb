{
 "cells": [
  {
   "cell_type": "code",
   "execution_count": 1,
   "metadata": {},
   "outputs": [],
   "source": [
    "# wap addition of 2 numbers\n",
    "\n",
    "# function defination\n",
    "def addition():\n",
    "    a = float(input(\"enter a : \"))\n",
    "    b = float(input(\"enter b : \"))\n",
    "    res = a + b\n",
    "    print(a,\" + \",b,\"  =  \", res)"
   ]
  },
  {
   "cell_type": "code",
   "execution_count": 2,
   "metadata": {},
   "outputs": [
    {
     "name": "stdout",
     "output_type": "stream",
     "text": [
      "enter a : 12\n",
      "enter b : 34\n",
      "12.0  +  34.0   =   46.0\n",
      "*********\n",
      "enter a : -78\n",
      "enter b : 67\n",
      "-78.0  +  67.0   =   -11.0\n",
      "##########\n",
      "enter a : 12.664\n",
      "enter b : 11.932434\n",
      "12.664  +  11.932434   =   24.596434000000002\n"
     ]
    }
   ],
   "source": [
    "# wap addition of 2 numbers\n",
    "\n",
    "# function defination\n",
    "def addition():\n",
    "    a = float(input(\"enter a : \"))\n",
    "    b = float(input(\"enter b : \"))\n",
    "    res = a + b\n",
    "    print(a,\" + \",b,\"  =  \", res)\n",
    "addition()\n",
    "print(\"*********\")\n",
    "addition()\n",
    "print(\"##########\")\n",
    "addition()"
   ]
  },
  {
   "cell_type": "code",
   "execution_count": null,
   "metadata": {},
   "outputs": [],
   "source": [
    "# wap find the subtracion of 2 numbers"
   ]
  },
  {
   "cell_type": "code",
   "execution_count": 3,
   "metadata": {},
   "outputs": [
    {
     "name": "stdout",
     "output_type": "stream",
     "text": [
      "enter : 10\n",
      "sum of first  10  Natural number is :  55\n",
      "enter : 100\n",
      "sum of first  100  Natural number is :  5050\n"
     ]
    }
   ],
   "source": [
    "# waf for sum of 1st N natural numbers \n",
    "def sum_N():\n",
    "    N = int(input(\"enter : \"))\n",
    "    sum = 0 \n",
    "    for var in range(1,N+1):\n",
    "        sum = sum + var\n",
    "    print(\"sum of first \",N,\" Natural number is : \",sum)\n",
    "sum_N()\n",
    "sum_N()"
   ]
  },
  {
   "cell_type": "code",
   "execution_count": null,
   "metadata": {},
   "outputs": [],
   "source": [
    "# waf factorial of a number"
   ]
  },
  {
   "cell_type": "code",
   "execution_count": null,
   "metadata": {},
   "outputs": [],
   "source": [
    "# waf for fibonic series \n",
    "# N = 10\n",
    "# 0  1   1    2    3     5   8    13  21     34"
   ]
  },
  {
   "cell_type": "code",
   "execution_count": null,
   "metadata": {},
   "outputs": [],
   "source": [
    "# waf find the given number is prime or not"
   ]
  },
  {
   "cell_type": "code",
   "execution_count": null,
   "metadata": {},
   "outputs": [],
   "source": [
    "# arguments\n",
    "# from function call  we can send the data to the function defination\n",
    "def fun_name(var1 , var2,var3----):\n",
    "    pass\n",
    "fun_name(data1 , data2 , data3----)"
   ]
  },
  {
   "cell_type": "code",
   "execution_count": 1,
   "metadata": {},
   "outputs": [
    {
     "name": "stdout",
     "output_type": "stream",
     "text": [
      "no of factors for  45  are :  6\n",
      "enter var : 12\n",
      "no of factors for  12  are :  6\n",
      "no of factors for  8  are :  4\n"
     ]
    }
   ],
   "source": [
    "# wap find the no of factors to given number\n",
    "def no_factors(N):\n",
    "    count = 0\n",
    "    for ele in range(1,N+1):\n",
    "        if(N % ele == 0):\n",
    "            count = count + 1\n",
    "    print(\"no of factors for \",N,\" are : \",count)  \n",
    "no_factors(45)\n",
    "var = int(input(\"enter var : \"))\n",
    "no_factors(var)\n",
    "no_factors(3+5)"
   ]
  },
  {
   "cell_type": "code",
   "execution_count": 2,
   "metadata": {},
   "outputs": [
    {
     "name": "stdout",
     "output_type": "stream",
     "text": [
      "no of factors for  45  are :  6\n",
      "enter var : 123\n"
     ]
    },
    {
     "ename": "TypeError",
     "evalue": "no_factors() missing 1 required positional argument: 'N'",
     "output_type": "error",
     "traceback": [
      "\u001b[1;31m---------------------------------------------------------------------------\u001b[0m",
      "\u001b[1;31mTypeError\u001b[0m                                 Traceback (most recent call last)",
      "\u001b[1;32m<ipython-input-2-df7b32b66fae>\u001b[0m in \u001b[0;36m<module>\u001b[1;34m\u001b[0m\n\u001b[0;32m      8\u001b[0m \u001b[0mno_factors\u001b[0m\u001b[1;33m(\u001b[0m\u001b[1;36m45\u001b[0m\u001b[1;33m)\u001b[0m\u001b[1;33m\u001b[0m\u001b[1;33m\u001b[0m\u001b[0m\n\u001b[0;32m      9\u001b[0m \u001b[0mvar\u001b[0m \u001b[1;33m=\u001b[0m \u001b[0mint\u001b[0m\u001b[1;33m(\u001b[0m\u001b[0minput\u001b[0m\u001b[1;33m(\u001b[0m\u001b[1;34m\"enter var : \"\u001b[0m\u001b[1;33m)\u001b[0m\u001b[1;33m)\u001b[0m\u001b[1;33m\u001b[0m\u001b[1;33m\u001b[0m\u001b[0m\n\u001b[1;32m---> 10\u001b[1;33m \u001b[0mno_factors\u001b[0m\u001b[1;33m(\u001b[0m\u001b[1;33m)\u001b[0m\u001b[1;33m\u001b[0m\u001b[1;33m\u001b[0m\u001b[0m\n\u001b[0m\u001b[0;32m     11\u001b[0m \u001b[0mno_factors\u001b[0m\u001b[1;33m(\u001b[0m\u001b[1;36m3\u001b[0m\u001b[1;33m+\u001b[0m\u001b[1;36m5\u001b[0m\u001b[1;33m)\u001b[0m\u001b[1;33m\u001b[0m\u001b[1;33m\u001b[0m\u001b[0m\n",
      "\u001b[1;31mTypeError\u001b[0m: no_factors() missing 1 required positional argument: 'N'"
     ]
    }
   ],
   "source": [
    "# wap find the no of factors to given number\n",
    "def no_factors(N):\n",
    "    count = 0\n",
    "    for ele in range(1,N+1):\n",
    "        if(N % ele == 0):\n",
    "            count = count + 1\n",
    "    print(\"no of factors for \",N,\" are : \",count)  \n",
    "no_factors(45)\n",
    "var = int(input(\"enter var : \"))\n",
    "no_factors()\n",
    "no_factors(3+5)"
   ]
  },
  {
   "cell_type": "code",
   "execution_count": 3,
   "metadata": {},
   "outputs": [
    {
     "name": "stdout",
     "output_type": "stream",
     "text": [
      "no of factors for  45  are :  6\n",
      "enter var : 124\n",
      "no of factors for  13  are :  2\n",
      "no of factors for  8  are :  4\n"
     ]
    }
   ],
   "source": [
    "# Default argument\n",
    "# wap find the no of factors to given number\n",
    "def no_factors(N = 13):\n",
    "    count = 0\n",
    "    for ele in range(1,N+1):\n",
    "        if(N % ele == 0):\n",
    "            count = count + 1\n",
    "    print(\"no of factors for \",N,\" are : \",count)  \n",
    "no_factors(45)\n",
    "var = int(input(\"enter var : \"))\n",
    "no_factors()\n",
    "no_factors(3+5)"
   ]
  },
  {
   "cell_type": "code",
   "execution_count": 4,
   "metadata": {},
   "outputs": [
    {
     "name": "stdout",
     "output_type": "stream",
     "text": [
      "no of factors for  45  are :  6\n",
      "enter var : 34\n",
      "no of factors for  34  are :  4\n",
      "no of factors for  13  are :  2\n"
     ]
    }
   ],
   "source": [
    "# return \n",
    "# to send the data from function defination to function call\n",
    "# Default argument\n",
    "# wap find the no of factors to given number\n",
    "def no_factors(N = 13):\n",
    "    count = 0\n",
    "    for ele in range(1,N+1):\n",
    "        if(N % ele == 0):\n",
    "            count = count + 1\n",
    "    return count\n",
    "print(\"no of factors for \",45,\" are : \", no_factors(45))\n",
    "var = int(input(\"enter var : \"))\n",
    "print(\"no of factors for \",var,\" are : \", no_factors(var))\n",
    "print(\"no of factors for \",13,\" are : \", no_factors(5+8))"
   ]
  },
  {
   "cell_type": "code",
   "execution_count": null,
   "metadata": {},
   "outputs": [],
   "source": [
    "# python Program Structure\n",
    "def user_fun1():\n",
    "    pass\n",
    "def user_fun2():\n",
    "    pass\n",
    "def user_fun3():\n",
    "    pass\n",
    "def main():\n",
    "    pass\n",
    "if __name__ == \"__main__\":\n",
    "    main()"
   ]
  },
  {
   "cell_type": "code",
   "execution_count": null,
   "metadata": {},
   "outputs": [],
   "source": [
    "# wap for find the given number is prime or not \n",
    "# no_factors\n",
    "# reverse of a number"
   ]
  }
 ],
 "metadata": {
  "kernelspec": {
   "display_name": "Python 3",
   "language": "python",
   "name": "python3"
  },
  "language_info": {
   "codemirror_mode": {
    "name": "ipython",
    "version": 3
   },
   "file_extension": ".py",
   "mimetype": "text/x-python",
   "name": "python",
   "nbconvert_exporter": "python",
   "pygments_lexer": "ipython3",
   "version": "3.8.3"
  }
 },
 "nbformat": 4,
 "nbformat_minor": 4
}
