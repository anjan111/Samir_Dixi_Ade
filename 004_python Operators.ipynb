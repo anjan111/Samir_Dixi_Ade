{
 "cells": [
  {
   "cell_type": "code",
   "execution_count": 6,
   "metadata": {},
   "outputs": [
    {
     "name": "stdout",
     "output_type": "stream",
     "text": [
      "40\n",
      "-25\n",
      "20\n",
      "11.333333333333334\n",
      "11\n",
      "2\n",
      "1000\n"
     ]
    }
   ],
   "source": [
    "# Arithmetic Operators\n",
    "print(10 + 30) # 40\n",
    "print(20 - 45) # -25\n",
    "print(10 * 2)  # 20\n",
    "print(34 / 3)  #11.333333333333334\n",
    "print(34 // 3) # floor division \n",
    "print(35 % 3)  # 2\n",
    "print(10 ** 3) # 100"
   ]
  },
  {
   "cell_type": "code",
   "execution_count": 7,
   "metadata": {},
   "outputs": [
    {
     "name": "stdout",
     "output_type": "stream",
     "text": [
      "True\n",
      "True\n",
      "True\n",
      "True\n",
      "True\n",
      "True\n"
     ]
    }
   ],
   "source": [
    "# Relational Operator ----> True / False\n",
    "print(10 < 30 ) #True\n",
    "print(20 > 10 ) #True\n",
    "print(10 == 10) # True\n",
    "print(10 != 20) # True\n",
    "print(10 <= 10) # True\n",
    "print(20 >= 20) # True"
   ]
  },
  {
   "cell_type": "code",
   "execution_count": 8,
   "metadata": {},
   "outputs": [
    {
     "name": "stdout",
     "output_type": "stream",
     "text": [
      "False\n",
      "True\n",
      "True\n",
      "False\n"
     ]
    }
   ],
   "source": [
    "# Special Operators\n",
    "'''\n",
    "1. Membership Operator\n",
    "====>> To check the element is member of the group of elements\n",
    "\n",
    "======>>> in \n",
    "======>>> not in\n",
    "\n",
    "2. Identity Operator\n",
    "'''\n",
    "group = \"lkdjdskldslkd\"\n",
    "char1 = 'Z'\n",
    "char2 = 'j'\n",
    "print(char1 in group) # False\n",
    "print(char2 in group) # True\n",
    "print(char1 not in group) # True\n",
    "print(char2 not in group) # False\n"
   ]
  },
  {
   "cell_type": "code",
   "execution_count": 9,
   "metadata": {},
   "outputs": [
    {
     "name": "stdout",
     "output_type": "stream",
     "text": [
      "2989097531072\n",
      "2989097286464\n",
      "False\n",
      "True\n"
     ]
    }
   ],
   "source": [
    "# Identity Operator\n",
    "'''\n",
    "==>> The 2 elements are shared same memory location or not\n",
    "1. is \n",
    "2. is not\n",
    "'''\n",
    "a = [12,89,34]\n",
    "b = [12,89,34]\n",
    "print(id(a))\n",
    "print(id(b))\n",
    "print(a is b)  # False\n",
    "print(a is not b)# True"
   ]
  },
  {
   "cell_type": "code",
   "execution_count": 11,
   "metadata": {
    "scrolled": true
   },
   "outputs": [
    {
     "name": "stdout",
     "output_type": "stream",
     "text": [
      "2989097284416\n",
      "2989097284416\n",
      "True\n",
      "False\n"
     ]
    }
   ],
   "source": [
    "a = [12,89,34]\n",
    "b = a\n",
    "print(id(a))\n",
    "print(id(b))\n",
    "print(a is b)  # False\n",
    "print(a is not b)# True"
   ]
  },
  {
   "cell_type": "code",
   "execution_count": 12,
   "metadata": {},
   "outputs": [
    {
     "name": "stdout",
     "output_type": "stream",
     "text": [
      "123\n",
      "123\n",
      "246\n"
     ]
    }
   ],
   "source": [
    "# Assignment operator   =\n",
    "a = 123 # constant to variable\n",
    "b = a   # variable to variable\n",
    "c = a + b  #expression to variable\n",
    "print(a)\n",
    "print(b)\n",
    "print(c)\n"
   ]
  },
  {
   "cell_type": "code",
   "execution_count": 13,
   "metadata": {},
   "outputs": [
    {
     "name": "stdout",
     "output_type": "stream",
     "text": [
      "30\n",
      "30\n",
      "-10\n",
      "200\n",
      "0.5\n",
      "5\n"
     ]
    }
   ],
   "source": [
    "# Compound Assignment operator\n",
    "# a <<---- 10\n",
    "# b <<---- 20\n",
    "# a <<---- a+b\n",
    "a = 10\n",
    "b = 20\n",
    "a = a+b # addition then update\n",
    "print(a)\n",
    "a = 10\n",
    "b = 20\n",
    "a += b # a = a+b # addition then update\n",
    "print(a)\n",
    "a = 10\n",
    "b = 20\n",
    "a -= b # a = a-b # operation then update\n",
    "print(a)\n",
    "a = 10\n",
    "b = 20\n",
    "a *= b # a = a*b # operation then update\n",
    "print(a)\n",
    "a = 10\n",
    "b = 20\n",
    "a /= b # a = a/b # operation then update\n",
    "print(a)\n",
    "a = 105\n",
    "b = 20\n",
    "a %= b # a = a%b # operation then update\n",
    "print(a)"
   ]
  },
  {
   "cell_type": "code",
   "execution_count": 14,
   "metadata": {},
   "outputs": [
    {
     "name": "stdout",
     "output_type": "stream",
     "text": [
      "False\n",
      "False\n",
      "False\n",
      "True\n"
     ]
    }
   ],
   "source": [
    "#Logical Operator\n",
    "'''\n",
    "AND  ---> and --> when all inputs are True ---> then result is True\n",
    "OR   ---> or ---> when all inputs are False then result is False \n",
    "NOT  ---> not --> True --> False , False --> True\n",
    "'''\n",
    "# and \n",
    "print(False and False)\n",
    "print(False and True)\n",
    "print(True and False)\n",
    "print(True and True)"
   ]
  },
  {
   "cell_type": "code",
   "execution_count": 15,
   "metadata": {},
   "outputs": [
    {
     "name": "stdout",
     "output_type": "stream",
     "text": [
      "False\n",
      "True\n",
      "True\n",
      "True\n"
     ]
    }
   ],
   "source": [
    "# or\n",
    "print(False or False)\n",
    "print(False or True)\n",
    "print(True or False)\n",
    "print(True or True)"
   ]
  },
  {
   "cell_type": "code",
   "execution_count": 16,
   "metadata": {},
   "outputs": [
    {
     "name": "stdout",
     "output_type": "stream",
     "text": [
      "True\n",
      "False\n"
     ]
    }
   ],
   "source": [
    "# not \n",
    "print(not False)\n",
    "print(not True)"
   ]
  },
  {
   "cell_type": "code",
   "execution_count": null,
   "metadata": {},
   "outputs": [],
   "source": []
  }
 ],
 "metadata": {
  "kernelspec": {
   "display_name": "Python 3",
   "language": "python",
   "name": "python3"
  },
  "language_info": {
   "codemirror_mode": {
    "name": "ipython",
    "version": 3
   },
   "file_extension": ".py",
   "mimetype": "text/x-python",
   "name": "python",
   "nbconvert_exporter": "python",
   "pygments_lexer": "ipython3",
   "version": "3.8.3"
  }
 },
 "nbformat": 4,
 "nbformat_minor": 4
}
