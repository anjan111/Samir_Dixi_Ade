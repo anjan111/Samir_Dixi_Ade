{
 "cells": [
  {
   "cell_type": "code",
   "execution_count": 1,
   "metadata": {},
   "outputs": [
    {
     "ename": "SyntaxError",
     "evalue": "Missing parentheses in call to 'print'. Did you mean print(\"hello\")? (<ipython-input-1-f32e6363c331>, line 6)",
     "output_type": "error",
     "traceback": [
      "\u001b[1;36m  File \u001b[1;32m\"<ipython-input-1-f32e6363c331>\"\u001b[1;36m, line \u001b[1;32m6\u001b[0m\n\u001b[1;33m    print \"hello\"\u001b[0m\n\u001b[1;37m          ^\u001b[0m\n\u001b[1;31mSyntaxError\u001b[0m\u001b[1;31m:\u001b[0m Missing parentheses in call to 'print'. Did you mean print(\"hello\")?\n"
     ]
    }
   ],
   "source": [
    "# Error\n",
    "'''\n",
    "==>> Mistake with in a program\n",
    "'''\n",
    "#Syntax error\n",
    "print \"hello\""
   ]
  },
  {
   "cell_type": "code",
   "execution_count": 2,
   "metadata": {},
   "outputs": [
    {
     "ename": "SyntaxError",
     "evalue": "invalid syntax (<ipython-input-2-193fa1f1ba54>, line 1)",
     "output_type": "error",
     "traceback": [
      "\u001b[1;36m  File \u001b[1;32m\"<ipython-input-2-193fa1f1ba54>\"\u001b[1;36m, line \u001b[1;32m1\u001b[0m\n\u001b[1;33m    if 10 < 20\u001b[0m\n\u001b[1;37m              ^\u001b[0m\n\u001b[1;31mSyntaxError\u001b[0m\u001b[1;31m:\u001b[0m invalid syntax\n"
     ]
    }
   ],
   "source": [
    "if 10 < 20\n",
    "    print(\"hello\")"
   ]
  },
  {
   "cell_type": "code",
   "execution_count": 3,
   "metadata": {},
   "outputs": [
    {
     "name": "stdout",
     "output_type": "stream",
     "text": [
      "hello\n"
     ]
    }
   ],
   "source": [
    "# Runtime Error\n",
    "'''\n",
    "===>> we are getting the While Execution of the program \n",
    "'''\n",
    "if 30 > 20:\n",
    "    print(\"hello\")"
   ]
  },
  {
   "cell_type": "code",
   "execution_count": 5,
   "metadata": {},
   "outputs": [
    {
     "ename": "TypeError",
     "evalue": "'>' not supported between instances of 'complex' and 'int'",
     "output_type": "error",
     "traceback": [
      "\u001b[1;31m---------------------------------------------------------------------------\u001b[0m",
      "\u001b[1;31mTypeError\u001b[0m                                 Traceback (most recent call last)",
      "\u001b[1;32m<ipython-input-5-35f3258b3854>\u001b[0m in \u001b[0;36m<module>\u001b[1;34m\u001b[0m\n\u001b[0;32m      3\u001b[0m \u001b[1;33m==\u001b[0m\u001b[1;33m=\u001b[0m\u001b[1;33m>>\u001b[0m \u001b[0mwe\u001b[0m \u001b[0mare\u001b[0m \u001b[0mgetting\u001b[0m \u001b[0mthe\u001b[0m \u001b[0mWhile\u001b[0m \u001b[0mExecution\u001b[0m \u001b[0mof\u001b[0m \u001b[0mthe\u001b[0m \u001b[0mprogram\u001b[0m\u001b[1;33m\u001b[0m\u001b[1;33m\u001b[0m\u001b[0m\n\u001b[0;32m      4\u001b[0m '''\n\u001b[1;32m----> 5\u001b[1;33m \u001b[1;32mif\u001b[0m \u001b[1;36m30\u001b[0m\u001b[1;33m+\u001b[0m\u001b[1;36m4j\u001b[0m \u001b[1;33m>\u001b[0m \u001b[1;36m20\u001b[0m\u001b[1;33m:\u001b[0m\u001b[1;33m\u001b[0m\u001b[1;33m\u001b[0m\u001b[0m\n\u001b[0m\u001b[0;32m      6\u001b[0m     \u001b[0mprint\u001b[0m\u001b[1;33m(\u001b[0m\u001b[1;34m\"hello\"\u001b[0m\u001b[1;33m)\u001b[0m\u001b[1;33m\u001b[0m\u001b[1;33m\u001b[0m\u001b[0m\n\u001b[0;32m      7\u001b[0m \u001b[0mprint\u001b[0m\u001b[1;33m(\u001b[0m\u001b[1;34m\"hai\"\u001b[0m\u001b[1;33m)\u001b[0m\u001b[1;33m\u001b[0m\u001b[1;33m\u001b[0m\u001b[0m\n",
      "\u001b[1;31mTypeError\u001b[0m: '>' not supported between instances of 'complex' and 'int'"
     ]
    }
   ],
   "source": [
    "# Runtime Error\n",
    "'''\n",
    "===>> we are getting the While Execution of the program \n",
    "'''\n",
    "if 30+4j > 20:\n",
    "    print(\"hello\")\n",
    "print(\"hai\")"
   ]
  },
  {
   "cell_type": "code",
   "execution_count": 6,
   "metadata": {},
   "outputs": [
    {
     "name": "stdout",
     "output_type": "stream",
     "text": [
      "i got exception\n"
     ]
    }
   ],
   "source": [
    "# Exception\n",
    "'''\n",
    "===>>> The Program Terminates in the middle of the execution\n",
    "===>>> Runtime Error\n",
    "'''\n",
    "try :\n",
    "    '''\n",
    "    Logic of the program\n",
    "    '''\n",
    "    pass\n",
    "except:\n",
    "    '''\n",
    "    when we got exception at try block\n",
    "    '''\n",
    "    pass\n",
    "\n",
    "try : \n",
    "    if 30+4j > 20:\n",
    "        print(\"hello\")\n",
    "    print(\"hai\")\n",
    "except:\n",
    "    print(\"i got exception\")"
   ]
  },
  {
   "cell_type": "code",
   "execution_count": 7,
   "metadata": {},
   "outputs": [
    {
     "name": "stdout",
     "output_type": "stream",
     "text": [
      "hello\n",
      "hai\n"
     ]
    }
   ],
   "source": [
    "try : \n",
    "    if 30> 20:\n",
    "        print(\"hello\")\n",
    "    print(\"hai\")\n",
    "except:\n",
    "    print(\"i got exception\")"
   ]
  },
  {
   "cell_type": "code",
   "execution_count": 8,
   "metadata": {},
   "outputs": [
    {
     "name": "stdout",
     "output_type": "stream",
     "text": [
      "i got exception\n"
     ]
    }
   ],
   "source": [
    "try : \n",
    "    import fghfjkghfkgjgfd\n",
    "    if 30> 20:\n",
    "        print(\"hello\")\n",
    "    print(\"hai\")\n",
    "except:\n",
    "    print(\"i got exception\")"
   ]
  },
  {
   "cell_type": "code",
   "execution_count": 9,
   "metadata": {},
   "outputs": [
    {
     "name": "stdout",
     "output_type": "stream",
     "text": [
      "i got exception\n"
     ]
    }
   ],
   "source": [
    "try : \n",
    "    int(4+5j)\n",
    "    if 30> 20:\n",
    "        print(\"hello\")\n",
    "    print(\"hai\")\n",
    "except:\n",
    "    print(\"i got exception\")"
   ]
  },
  {
   "cell_type": "code",
   "execution_count": 10,
   "metadata": {},
   "outputs": [
    {
     "name": "stdout",
     "output_type": "stream",
     "text": [
      "Type Error exception Handler\n"
     ]
    }
   ],
   "source": [
    "try : \n",
    "    int(4+5j)\n",
    "    if 30> 20:\n",
    "        print(\"hello\")\n",
    "    print(\"hai\")\n",
    "except TypeError:\n",
    "    print(\"Type Error exception Handler\")\n",
    "except ValueError:\n",
    "    print(\"Value Error exception Handler\") \n",
    "except NameError:\n",
    "    print(\"Name Error exception Handler\")\n",
    "except:\n",
    "    print(\"i got exception\")"
   ]
  },
  {
   "cell_type": "code",
   "execution_count": 12,
   "metadata": {},
   "outputs": [
    {
     "name": "stdout",
     "output_type": "stream",
     "text": [
      "Import Error exception Handler\n"
     ]
    }
   ],
   "source": [
    "try : \n",
    "    import fkjgfgjfg\n",
    "    if 30> 20:\n",
    "        print(\"hello\")\n",
    "    print(\"hai\")\n",
    "except TypeError:\n",
    "    print(\"Type Error exception Handler\")\n",
    "except ValueError:\n",
    "    print(\"Value Error exception Handler\") \n",
    "except NameError:\n",
    "    print(\"Name Error exception Handler\")\n",
    "except ModuleNotFoundError:\n",
    "    print(\"Import Error exception Handler\")    \n",
    "except:\n",
    "    print(\"i got exception\")"
   ]
  },
  {
   "cell_type": "code",
   "execution_count": 13,
   "metadata": {},
   "outputs": [
    {
     "name": "stdout",
     "output_type": "stream",
     "text": [
      "Import Error exception Handler\n"
     ]
    }
   ],
   "source": [
    "try : \n",
    "    import fkjgfgjfg\n",
    "    if 30> 20:\n",
    "        print(\"hello\")\n",
    "    print(\"hai\")\n",
    "except TypeError:\n",
    "    print(\"Type Error exception Handler\")\n",
    "except ValueError:\n",
    "    print(\"Value Error exception Handler\") \n",
    "except NameError:\n",
    "    print(\"Name Error exception Handler\")\n",
    "except ModuleNotFoundError:\n",
    "    print(\"Import Error exception Handler\")    \n",
    "except:\n",
    "    print(\"i got exception\")\n",
    "else:\n",
    "    print(\"No More Exception\")"
   ]
  },
  {
   "cell_type": "code",
   "execution_count": 14,
   "metadata": {},
   "outputs": [
    {
     "name": "stdout",
     "output_type": "stream",
     "text": [
      "hello\n",
      "hai\n",
      "No More Exception\n"
     ]
    }
   ],
   "source": [
    "try : \n",
    "    if 30> 20:\n",
    "        print(\"hello\")\n",
    "    print(\"hai\")\n",
    "except TypeError:\n",
    "    print(\"Type Error exception Handler\")\n",
    "except ValueError:\n",
    "    print(\"Value Error exception Handler\") \n",
    "except NameError:\n",
    "    print(\"Name Error exception Handler\")\n",
    "except ModuleNotFoundError:\n",
    "    print(\"Import Error exception Handler\")    \n",
    "except:\n",
    "    print(\"i got exception\")\n",
    "else:\n",
    "    print(\"No More Exception\")"
   ]
  },
  {
   "cell_type": "code",
   "execution_count": 15,
   "metadata": {},
   "outputs": [
    {
     "name": "stdout",
     "output_type": "stream",
     "text": [
      "hello\n",
      "hai\n",
      "No More Exception\n",
      "Any Situation \n"
     ]
    }
   ],
   "source": [
    "try : \n",
    "    if 30> 20:\n",
    "        print(\"hello\")\n",
    "    print(\"hai\")\n",
    "except TypeError:\n",
    "    print(\"Type Error exception Handler\")\n",
    "except ValueError:\n",
    "    print(\"Value Error exception Handler\") \n",
    "except NameError:\n",
    "    print(\"Name Error exception Handler\")\n",
    "except ModuleNotFoundError:\n",
    "    print(\"Import Error exception Handler\")    \n",
    "except:\n",
    "    print(\"i got exception\")\n",
    "else:\n",
    "    print(\"No More Exception\")\n",
    "finally:\n",
    "    print(\"Any Situation \")"
   ]
  },
  {
   "cell_type": "code",
   "execution_count": 16,
   "metadata": {},
   "outputs": [
    {
     "name": "stdout",
     "output_type": "stream",
     "text": [
      "Import Error exception Handler\n",
      "Any Situation \n"
     ]
    }
   ],
   "source": [
    "try : \n",
    "    import fkgfdjkkghdf\n",
    "    if 30> 20:\n",
    "        print(\"hello\")\n",
    "    print(\"hai\")\n",
    "except TypeError:\n",
    "    print(\"Type Error exception Handler\")\n",
    "except ValueError:\n",
    "    print(\"Value Error exception Handler\") \n",
    "except NameError:\n",
    "    print(\"Name Error exception Handler\")\n",
    "except ModuleNotFoundError:\n",
    "    print(\"Import Error exception Handler\")    \n",
    "except:\n",
    "    print(\"i got exception\")\n",
    "else:\n",
    "    print(\"No More Exception\")\n",
    "finally:\n",
    "    print(\"Any Situation \")"
   ]
  },
  {
   "cell_type": "code",
   "execution_count": 17,
   "metadata": {},
   "outputs": [
    {
     "name": "stdout",
     "output_type": "stream",
     "text": [
      "hello\n",
      "i got exception\n",
      "Any Situation \n"
     ]
    }
   ],
   "source": [
    "try : \n",
    "   \n",
    "    if 30> 20:\n",
    "        print(\"hello\")\n",
    "        raise \n",
    "    print(\"hai\")\n",
    "except TypeError:\n",
    "    print(\"Type Error exception Handler\")\n",
    "except ValueError:\n",
    "    print(\"Value Error exception Handler\") \n",
    "except NameError:\n",
    "    print(\"Name Error exception Handler\")\n",
    "except ModuleNotFoundError:\n",
    "    print(\"Import Error exception Handler\")    \n",
    "except:\n",
    "    print(\"i got exception\")\n",
    "else:\n",
    "    print(\"No More Exception\")\n",
    "finally:\n",
    "    print(\"Any Situation \")"
   ]
  },
  {
   "cell_type": "code",
   "execution_count": null,
   "metadata": {},
   "outputs": [],
   "source": []
  }
 ],
 "metadata": {
  "kernelspec": {
   "display_name": "Python 3",
   "language": "python",
   "name": "python3"
  },
  "language_info": {
   "codemirror_mode": {
    "name": "ipython",
    "version": 3
   },
   "file_extension": ".py",
   "mimetype": "text/x-python",
   "name": "python",
   "nbconvert_exporter": "python",
   "pygments_lexer": "ipython3",
   "version": "3.8.3"
  }
 },
 "nbformat": 4,
 "nbformat_minor": 4
}
