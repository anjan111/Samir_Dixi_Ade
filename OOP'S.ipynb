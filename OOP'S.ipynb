{
 "cells": [
  {
   "cell_type": "code",
   "execution_count": 1,
   "metadata": {},
   "outputs": [],
   "source": [
    "# class creation\n",
    "\n",
    "class   Class_name():\n",
    "    var = 120  # attribute\n",
    "    def fun():\n",
    "        print(var)\n",
    "        "
   ]
  },
  {
   "cell_type": "code",
   "execution_count": 2,
   "metadata": {},
   "outputs": [
    {
     "name": "stdout",
     "output_type": "stream",
     "text": [
      "120\n"
     ]
    }
   ],
   "source": [
    "obj = Class_name()\n",
    "print(obj.var)"
   ]
  },
  {
   "cell_type": "code",
   "execution_count": 3,
   "metadata": {},
   "outputs": [
    {
     "ename": "TypeError",
     "evalue": "fun() takes 0 positional arguments but 1 was given",
     "output_type": "error",
     "traceback": [
      "\u001b[1;31m---------------------------------------------------------------------------\u001b[0m",
      "\u001b[1;31mTypeError\u001b[0m                                 Traceback (most recent call last)",
      "\u001b[1;32m<ipython-input-3-51ee50e1b8d2>\u001b[0m in \u001b[0;36m<module>\u001b[1;34m\u001b[0m\n\u001b[0;32m      1\u001b[0m \u001b[0mobj\u001b[0m \u001b[1;33m=\u001b[0m \u001b[0mClass_name\u001b[0m\u001b[1;33m(\u001b[0m\u001b[1;33m)\u001b[0m\u001b[1;33m\u001b[0m\u001b[1;33m\u001b[0m\u001b[0m\n\u001b[1;32m----> 2\u001b[1;33m \u001b[0mobj\u001b[0m\u001b[1;33m.\u001b[0m\u001b[0mfun\u001b[0m\u001b[1;33m(\u001b[0m\u001b[1;33m)\u001b[0m\u001b[1;33m\u001b[0m\u001b[1;33m\u001b[0m\u001b[0m\n\u001b[0m",
      "\u001b[1;31mTypeError\u001b[0m: fun() takes 0 positional arguments but 1 was given"
     ]
    }
   ],
   "source": [
    "obj = Class_name()\n",
    "obj.fun()"
   ]
  },
  {
   "cell_type": "code",
   "execution_count": 5,
   "metadata": {},
   "outputs": [
    {
     "name": "stdout",
     "output_type": "stream",
     "text": [
      "120\n"
     ]
    },
    {
     "ename": "NameError",
     "evalue": "name 'var' is not defined",
     "output_type": "error",
     "traceback": [
      "\u001b[1;31m---------------------------------------------------------------------------\u001b[0m",
      "\u001b[1;31mNameError\u001b[0m                                 Traceback (most recent call last)",
      "\u001b[1;32m<ipython-input-5-7c429177a9da>\u001b[0m in \u001b[0;36m<module>\u001b[1;34m\u001b[0m\n\u001b[0;32m      7\u001b[0m \u001b[0mobj\u001b[0m \u001b[1;33m=\u001b[0m \u001b[0mClass_name\u001b[0m\u001b[1;33m(\u001b[0m\u001b[1;33m)\u001b[0m\u001b[1;33m\u001b[0m\u001b[1;33m\u001b[0m\u001b[0m\n\u001b[0;32m      8\u001b[0m \u001b[0mprint\u001b[0m\u001b[1;33m(\u001b[0m\u001b[0mobj\u001b[0m\u001b[1;33m.\u001b[0m\u001b[0mvar\u001b[0m\u001b[1;33m)\u001b[0m\u001b[1;33m\u001b[0m\u001b[1;33m\u001b[0m\u001b[0m\n\u001b[1;32m----> 9\u001b[1;33m \u001b[0mobj\u001b[0m\u001b[1;33m.\u001b[0m\u001b[0mfun\u001b[0m\u001b[1;33m(\u001b[0m\u001b[1;33m)\u001b[0m\u001b[1;33m\u001b[0m\u001b[1;33m\u001b[0m\u001b[0m\n\u001b[0m",
      "\u001b[1;32m<ipython-input-5-7c429177a9da>\u001b[0m in \u001b[0;36mfun\u001b[1;34m(self)\u001b[0m\n\u001b[0;32m      4\u001b[0m     \u001b[0mvar\u001b[0m \u001b[1;33m=\u001b[0m \u001b[1;36m120\u001b[0m  \u001b[1;31m# attribute\u001b[0m\u001b[1;33m\u001b[0m\u001b[1;33m\u001b[0m\u001b[0m\n\u001b[0;32m      5\u001b[0m     \u001b[1;32mdef\u001b[0m \u001b[0mfun\u001b[0m\u001b[1;33m(\u001b[0m\u001b[0mself\u001b[0m\u001b[1;33m)\u001b[0m\u001b[1;33m:\u001b[0m\u001b[1;33m\u001b[0m\u001b[1;33m\u001b[0m\u001b[0m\n\u001b[1;32m----> 6\u001b[1;33m         \u001b[0mprint\u001b[0m\u001b[1;33m(\u001b[0m\u001b[0mvar\u001b[0m\u001b[1;33m)\u001b[0m\u001b[1;33m\u001b[0m\u001b[1;33m\u001b[0m\u001b[0m\n\u001b[0m\u001b[0;32m      7\u001b[0m \u001b[0mobj\u001b[0m \u001b[1;33m=\u001b[0m \u001b[0mClass_name\u001b[0m\u001b[1;33m(\u001b[0m\u001b[1;33m)\u001b[0m\u001b[1;33m\u001b[0m\u001b[1;33m\u001b[0m\u001b[0m\n\u001b[0;32m      8\u001b[0m \u001b[0mprint\u001b[0m\u001b[1;33m(\u001b[0m\u001b[0mobj\u001b[0m\u001b[1;33m.\u001b[0m\u001b[0mvar\u001b[0m\u001b[1;33m)\u001b[0m\u001b[1;33m\u001b[0m\u001b[1;33m\u001b[0m\u001b[0m\n",
      "\u001b[1;31mNameError\u001b[0m: name 'var' is not defined"
     ]
    }
   ],
   "source": [
    "# class creation\n",
    "\n",
    "class   Class_name():\n",
    "    var = 120  # attribute\n",
    "    def fun(self):\n",
    "        print(var)\n",
    "obj = Class_name()\n",
    "print(obj.var)\n",
    "obj.fun()"
   ]
  },
  {
   "cell_type": "code",
   "execution_count": 6,
   "metadata": {},
   "outputs": [
    {
     "name": "stdout",
     "output_type": "stream",
     "text": [
      "120\n",
      "120\n"
     ]
    }
   ],
   "source": [
    "# class creation\n",
    "\n",
    "class   Class_name():\n",
    "    var = 120  # attribute\n",
    "    def fun(self):\n",
    "        print(self.var)\n",
    "obj = Class_name()\n",
    "print(obj.var)\n",
    "obj.fun()"
   ]
  },
  {
   "cell_type": "code",
   "execution_count": 7,
   "metadata": {},
   "outputs": [
    {
     "name": "stdout",
     "output_type": "stream",
     "text": [
      "120\n",
      "enter var456\n",
      "456\n"
     ]
    }
   ],
   "source": [
    "# class creation\n",
    "\n",
    "class   Class_name():\n",
    "    var = 120  # attribute\n",
    "    def fun(self):\n",
    "        print(self.var)\n",
    "    def mod(self):\n",
    "        self.var = input(\"enter var\")\n",
    "obj = Class_name()\n",
    "#print(obj.var)\n",
    "obj.fun()\n",
    "obj.mod()\n",
    "obj.fun()"
   ]
  },
  {
   "cell_type": "code",
   "execution_count": 8,
   "metadata": {},
   "outputs": [
    {
     "name": "stdout",
     "output_type": "stream",
     "text": [
      "120\n",
      "120\n",
      "120\n",
      "enter var90\n",
      "enter var100\n",
      "enter var110\n",
      "90\n",
      "100\n",
      "110\n"
     ]
    }
   ],
   "source": [
    "# muliple objecs\n",
    "class   Class_name():\n",
    "    var = 120  # attribute\n",
    "    def fun(self):\n",
    "        print(self.var)\n",
    "    def mod(self):\n",
    "        self.var = input(\"enter var\")\n",
    "obj1 = Class_name()# object 1\n",
    "obj2 = Class_name()# object 2\n",
    "obj3 = Class_name()# object 3\n",
    "obj1.fun()\n",
    "obj2.fun()\n",
    "obj3.fun()\n",
    "obj1.mod()\n",
    "obj2.mod()\n",
    "obj3.mod()\n",
    "obj1.fun()\n",
    "obj2.fun()\n",
    "obj3.fun()\n",
    "\n"
   ]
  },
  {
   "cell_type": "code",
   "execution_count": 9,
   "metadata": {},
   "outputs": [
    {
     "name": "stdout",
     "output_type": "stream",
     "text": [
      "this is constructors\n",
      "this is constructors\n",
      "this is constructors\n"
     ]
    }
   ],
   "source": [
    "# constructor --->> method is special method --> automatically executes when object is creae \n",
    "class   Class_name():\n",
    "    def __init__(self): # constructor\n",
    "        print(\"this is constructors\")\n",
    "        self.var =  123\n",
    "    def mod(self):\n",
    "        self.var = input(\"enter var\")\n",
    "    def fun(self):\n",
    "        print(self.var)\n",
    "obj1 = Class_name()# object 1\n",
    "obj2 = Class_name()# object 2\n",
    "obj3 = Class_name()# object 3\n"
   ]
  },
  {
   "cell_type": "code",
   "execution_count": 11,
   "metadata": {},
   "outputs": [
    {
     "name": "stdout",
     "output_type": "stream",
     "text": [
      "this is constructors\n",
      "this is constructors\n",
      "this is constructors\n",
      "i am desructor\n",
      "i am desructor\n"
     ]
    }
   ],
   "source": [
    "# destructor --->> when object is deleted the \n",
    "class   Class_name():\n",
    "    def __init__(self): # constructor\n",
    "        print(\"this is constructors\")\n",
    "        self.var =  123\n",
    "    def mod(self):\n",
    "        self.var = input(\"enter var\")\n",
    "    def fun(self):\n",
    "        print(self.var)\n",
    "    def __del__(self):\n",
    "        print(\"i am desructor\")\n",
    "obj1 = Class_name()# object 1\n",
    "obj2 = Class_name()# object 2\n",
    "obj3 = Class_name()# object 3\n",
    "del obj2\n",
    "del obj3"
   ]
  },
  {
   "cell_type": "code",
   "execution_count": 1,
   "metadata": {},
   "outputs": [
    {
     "name": "stdout",
     "output_type": "stream",
     "text": [
      "123\n",
      "456\n",
      "123\n"
     ]
    },
    {
     "ename": "AttributeError",
     "evalue": "'Class_name' object has no attribute '__pri_var'",
     "output_type": "error",
     "traceback": [
      "\u001b[1;31m---------------------------------------------------------------------------\u001b[0m",
      "\u001b[1;31mAttributeError\u001b[0m                            Traceback (most recent call last)",
      "\u001b[1;32m<ipython-input-1-d4adb3b968e2>\u001b[0m in \u001b[0;36m<module>\u001b[1;34m\u001b[0m\n\u001b[0;32m     10\u001b[0m \u001b[0mobj\u001b[0m\u001b[1;33m.\u001b[0m\u001b[0mfun\u001b[0m\u001b[1;33m(\u001b[0m\u001b[1;33m)\u001b[0m \u001b[1;31m#  calling method\u001b[0m\u001b[1;33m\u001b[0m\u001b[1;33m\u001b[0m\u001b[0m\n\u001b[0;32m     11\u001b[0m \u001b[0mprint\u001b[0m\u001b[1;33m(\u001b[0m\u001b[0mobj\u001b[0m\u001b[1;33m.\u001b[0m\u001b[0mpub_var\u001b[0m\u001b[1;33m)\u001b[0m\u001b[1;33m\u001b[0m\u001b[1;33m\u001b[0m\u001b[0m\n\u001b[1;32m---> 12\u001b[1;33m \u001b[0mprint\u001b[0m\u001b[1;33m(\u001b[0m\u001b[0mobj\u001b[0m\u001b[1;33m.\u001b[0m\u001b[0m__pri_var\u001b[0m\u001b[1;33m)\u001b[0m\u001b[1;33m\u001b[0m\u001b[1;33m\u001b[0m\u001b[0m\n\u001b[0m",
      "\u001b[1;31mAttributeError\u001b[0m: 'Class_name' object has no attribute '__pri_var'"
     ]
    }
   ],
   "source": [
    "# data hiding\n",
    "\n",
    "class Class_name():\n",
    "    pub_var = 123 # puplic variable\n",
    "    __pri_var = 456 #private # hiding\n",
    "    def fun(self):\n",
    "        print(self.pub_var)\n",
    "        print(self.__pri_var)\n",
    "obj = Class_name()\n",
    "obj.fun() #  calling method\n",
    "print(obj.pub_var)\n",
    "print(obj.__pri_var)"
   ]
  },
  {
   "cell_type": "code",
   "execution_count": 2,
   "metadata": {},
   "outputs": [
    {
     "name": "stdout",
     "output_type": "stream",
     "text": [
      "123\n",
      "456\n",
      "123\n",
      "456\n"
     ]
    }
   ],
   "source": [
    "# Data Encapulation\n",
    "\n",
    "class Class_name():\n",
    "    pub_var = 123 # puplic variable\n",
    "    __pri_var = 456 #private # hiding\n",
    "    def fun(self):\n",
    "        print(self.pub_var)\n",
    "        print(self.__pri_var)\n",
    "obj = Class_name()\n",
    "obj.fun() #  calling method\n",
    "print(obj.pub_var)\n",
    "print(obj._Class_name__pri_var)"
   ]
  },
  {
   "cell_type": "code",
   "execution_count": 3,
   "metadata": {},
   "outputs": [
    {
     "name": "stdout",
     "output_type": "stream",
     "text": [
      "3rd timee\n"
     ]
    }
   ],
   "source": [
    "# method overridding\n",
    "class Class_name():\n",
    "    def fun(self):\n",
    "        print(\"1st timee\")\n",
    "    def fun(self):\n",
    "        print(\"2nd timee\") \n",
    "    def fun(self):\n",
    "        print(\"3rd timee\")\n",
    "obj = Class_name()\n",
    "obj.fun()"
   ]
  },
  {
   "cell_type": "code",
   "execution_count": 4,
   "metadata": {},
   "outputs": [
    {
     "name": "stdout",
     "output_type": "stream",
     "text": [
      "3rd timee\n",
      "3rd timee\n",
      "3rd timee\n"
     ]
    }
   ],
   "source": [
    "# method overloading ==> not supported\n",
    "class Class_name():\n",
    "    def fun(self):\n",
    "        print(\"1st timee\")\n",
    "    def fun(self,a=None):\n",
    "        print(\"2nd timee\") \n",
    "    def fun(self,a=None,b=None):\n",
    "        print(\"3rd timee\")\n",
    "obj = Class_name()\n",
    "obj.fun()\n",
    "obj.fun(10)\n",
    "obj.fun(10,20)"
   ]
  },
  {
   "cell_type": "code",
   "execution_count": null,
   "metadata": {},
   "outputs": [],
   "source": [
    "# poly morpshism ---> not supported --> method overloadding is not supported "
   ]
  },
  {
   "cell_type": "code",
   "execution_count": 5,
   "metadata": {},
   "outputs": [
    {
     "name": "stdout",
     "output_type": "stream",
     "text": [
      "Class2\n",
      "Class1\n"
     ]
    }
   ],
   "source": [
    "# Inheritance \n",
    "class Class_name1():\n",
    "    def fun1(self):\n",
    "        print(\"Class1\")\n",
    "class Class_name2(Class_name1):\n",
    "    def fun2(self):\n",
    "        print(\"Class2\")\n",
    "obj = Class_name2()\n",
    "obj.fun2()\n",
    "obj.fun1()"
   ]
  },
  {
   "cell_type": "code",
   "execution_count": null,
   "metadata": {},
   "outputs": [],
   "source": []
  }
 ],
 "metadata": {
  "kernelspec": {
   "display_name": "Python 3",
   "language": "python",
   "name": "python3"
  },
  "language_info": {
   "codemirror_mode": {
    "name": "ipython",
    "version": 3
   },
   "file_extension": ".py",
   "mimetype": "text/x-python",
   "name": "python",
   "nbconvert_exporter": "python",
   "pygments_lexer": "ipython3",
   "version": "3.8.3"
  }
 },
 "nbformat": 4,
 "nbformat_minor": 4
}
